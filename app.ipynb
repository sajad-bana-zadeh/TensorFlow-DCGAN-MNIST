{
 "cells": [
  {
   "cell_type": "markdown",
   "id": "e1796f55-2441-4b18-9d7e-19d5987e9889",
   "metadata": {},
   "source": [
    "## RUN in localhost\n",
    "- voila app.ipynb"
   ]
  },
  {
   "cell_type": "markdown",
   "id": "d50061be-c8ef-4e4a-a486-92484bb355f7",
   "metadata": {},
   "source": [
    "___"
   ]
  },
  {
   "cell_type": "code",
   "execution_count": 1,
   "id": "3285df7d-ae6a-45de-8e3d-781bf7df7ef0",
   "metadata": {},
   "outputs": [
    {
     "name": "stderr",
     "output_type": "stream",
     "text": [
      "2025-07-21 11:51:59.798676: I external/local_xla/xla/tsl/cuda/cudart_stub.cc:32] Could not find cuda drivers on your machine, GPU will not be used.\n",
      "2025-07-21 11:52:00.037654: I external/local_xla/xla/tsl/cuda/cudart_stub.cc:32] Could not find cuda drivers on your machine, GPU will not be used.\n",
      "2025-07-21 11:52:00.249030: E external/local_xla/xla/stream_executor/cuda/cuda_fft.cc:467] Unable to register cuFFT factory: Attempting to register factory for plugin cuFFT when one has already been registered\n",
      "WARNING: All log messages before absl::InitializeLog() is called are written to STDERR\n",
      "E0000 00:00:1753086120.442068    7192 cuda_dnn.cc:8579] Unable to register cuDNN factory: Attempting to register factory for plugin cuDNN when one has already been registered\n",
      "E0000 00:00:1753086120.492478    7192 cuda_blas.cc:1407] Unable to register cuBLAS factory: Attempting to register factory for plugin cuBLAS when one has already been registered\n",
      "W0000 00:00:1753086120.887535    7192 computation_placer.cc:177] computation placer already registered. Please check linkage and avoid linking the same target more than once.\n",
      "W0000 00:00:1753086120.887592    7192 computation_placer.cc:177] computation placer already registered. Please check linkage and avoid linking the same target more than once.\n",
      "W0000 00:00:1753086120.887600    7192 computation_placer.cc:177] computation placer already registered. Please check linkage and avoid linking the same target more than once.\n",
      "W0000 00:00:1753086120.887605    7192 computation_placer.cc:177] computation placer already registered. Please check linkage and avoid linking the same target more than once.\n"
     ]
    }
   ],
   "source": [
    "import os # For checking if file exists\n",
    "import matplotlib.pyplot as plt # For plot\n",
    "import numpy as np  # For saving/loading array data in .npz format\n",
    "import tensorflow as tf  # To download the MNIST dataset"
   ]
  },
  {
   "cell_type": "markdown",
   "id": "75052850-d9fe-4aa4-9fef-8b7b38b648ca",
   "metadata": {},
   "source": [
    "___"
   ]
  },
  {
   "cell_type": "markdown",
   "id": "7cccaf9a-a97d-4081-a76e-72b9785f530c",
   "metadata": {},
   "source": [
    "## Load or Download and save dataset\n"
   ]
  },
  {
   "cell_type": "code",
   "execution_count": 3,
   "id": "21f3e5d8-2dac-4bc8-b541-5d03f6ef1c45",
   "metadata": {},
   "outputs": [],
   "source": [
    "DATA_FILE = 'dataset/mnist_keras_saved.npz'  # Define the filename to save/load MNIST data"
   ]
  },
  {
   "cell_type": "code",
   "execution_count": 4,
   "id": "01b2034f-ea1d-42e6-96c0-1b10d33107db",
   "metadata": {},
   "outputs": [
    {
     "name": "stdout",
     "output_type": "stream",
     "text": [
      "Loaded MNIST data from local file.\n"
     ]
    }
   ],
   "source": [
    "# Check if the MNIST data file already exists locally\n",
    "if not os.path.exists(DATA_FILE):\n",
    "    # If file doesn't exist, download the dataset from TensorFlow\n",
    "    (x_train, y_train), (x_test, y_test) = tf.keras.datasets.mnist.load_data()\n",
    "    \n",
    "    # Save the loaded data arrays into a compressed .npz file for future use\n",
    "    np.savez(DATA_FILE, x_train=x_train, y_train=y_train, x_test=x_test, y_test=y_test)\n",
    "    print(\"Downloaded and saved MNIST data.\")\n",
    "else:\n",
    "    # If the file exists, load the dataset arrays directly from the saved .npz file\n",
    "    with np.load(DATA_FILE) as data:\n",
    "        x_train = data['x_train']  # Load training images\n",
    "        y_train = data['y_train']  # Load training labels\n",
    "        x_test = data['x_test']    # Load test images\n",
    "        y_test = data['y_test']    # Load test labels\n",
    "    print(\"Loaded MNIST data from local file.\")"
   ]
  },
  {
   "cell_type": "code",
   "execution_count": 5,
   "id": "263885b3-2409-4e4d-bfad-8eb8ddbec88f",
   "metadata": {},
   "outputs": [
    {
     "name": "stdout",
     "output_type": "stream",
     "text": [
      "Train samples: (60000, 28, 28), \t Test samples: (10000, 28, 28)\n"
     ]
    }
   ],
   "source": [
    "# Print the number of samples in training and test sets to verify loading\n",
    "print(f\"Train samples: {x_train.shape}, \\t Test samples: {x_test.shape}\")"
   ]
  },
  {
   "cell_type": "markdown",
   "id": "d81cde66-bca7-460e-9fd3-3cb95bfb5355",
   "metadata": {},
   "source": [
    "___"
   ]
  },
  {
   "cell_type": "markdown",
   "id": "248b8d54-c76c-4b5a-87c3-d2f477977f9d",
   "metadata": {},
   "source": [
    "## Plot a sample from dataset"
   ]
  },
  {
   "cell_type": "code",
   "execution_count": 6,
   "id": "f05d51b6-b9c7-42e4-b1a2-e4661fd81340",
   "metadata": {},
   "outputs": [
    {
     "name": "stdout",
     "output_type": "stream",
     "text": [
      "Number of sample in traning set: 60000\n",
      "Random choice: 4800, \t Value this No. in datase: 6\n"
     ]
    },
    {
     "data": {
      "image/png": "[encoded data removed]",
      "text/plain": [
       "<Figure size 640x480 with 1 Axes>"
      ]
     },
     "metadata": {},
     "output_type": "display_data"
    }
   ],
   "source": [
    "print(f\"Number of sample in traning set: {x_train.shape[0]}\")\n",
    "i = np.random.randint(0, x_train.shape[0])\n",
    "print(f\"Random choice: {i}, \\t Value this No. in datase: {y_train[i]}\")\n",
    "\n",
    "plt.imshow(x_train[i], cmap='gray');\n",
    "plt.show()"
   ]
  },
  {
   "cell_type": "markdown",
   "id": "c5284a02-15cd-444f-9553-16aabfe05614",
   "metadata": {},
   "source": [
    "___"
   ]
  },
  {
   "cell_type": "code",
   "execution_count": null,
   "id": "fc81fe2f-5488-4330-9d24-7841b80d63ed",
   "metadata": {},
   "outputs": [],
   "source": []
  }
 ],
 "metadata": {
  "kernelspec": {
   "display_name": "Python 3 (ipykernel)",
   "language": "python",
   "name": "python3"
  },
  "language_info": {
   "codemirror_mode": {
    "name": "ipython",
    "version": 3
   },
   "file_extension": ".py",
   "mimetype": "text/x-python",
   "name": "python",
   "nbconvert_exporter": "python",
   "pygments_lexer": "ipython3",
   "version": "3.10.12"
  }
 },
 "nbformat": 4,
 "nbformat_minor": 5
}
